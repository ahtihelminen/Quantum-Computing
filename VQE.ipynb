{
 "cells": [
  {
   "cell_type": "markdown",
   "id": "ec14ff6a-fd01-4ecb-aa2f-9695b317b845",
   "metadata": {},
   "source": [
    "# Variational Quantum Eigensolver\n",
    "#### This notebook demonstrates the use on variatonal quantum eigensolver (VQE) in finding the ground state of a qubit Hamiltonian. "
   ]
  },
  {
   "cell_type": "markdown",
   "id": "f8f817ef-f927-40ba-b6b6-b8ccfbad5894",
   "metadata": {},
   "source": [
    "Importing used libraries"
   ]
  },
  {
   "cell_type": "code",
   "execution_count": 1,
   "id": "51dbcf6a-c1e6-4c71-b2f4-a8c2f7efd54e",
   "metadata": {
    "tags": []
   },
   "outputs": [],
   "source": [
    "from qiskit import QuantumCircuit, transpile\n",
    "from qiskit.circuit import Parameter\n",
    "from qiskit_aer import Aer\n",
    "from qiskit_aer.noise import NoiseModel, depolarizing_error\n",
    "from qiskit.quantum_info import Statevector, Pauli, SparsePauliOp, state_fidelity\n",
    "from qiskit.visualization import circuit_drawer\n",
    "from IPython.display import display, Math\n",
    "from scipy.optimize import minimize\n",
    "import numpy as np\n",
    "import numpy.random as npr\n",
    "import numpy.linalg as linalg\n",
    "import matplotlib.pyplot as plt\n",
    "import matplotlib.patches as mpatches"
   ]
  },
  {
   "cell_type": "markdown",
   "id": "b8a3852e-79e9-49d9-99cf-177ba24338a8",
   "metadata": {},
   "source": [
    "#### Initializing random Hamiltonians\n",
    "We first define a function that allows us to create random $N$ qubit Hamiltonians by combining arbitrarily weighted Pauli operators. Additionally we define a function that prints these Hamiltonians nicely."
   ]
  },
  {
   "cell_type": "code",
   "execution_count": 2,
   "id": "3ca949b0",
   "metadata": {},
   "outputs": [],
   "source": [
    "# Function to generate a random Hamiltonian\n",
    "def random_hamiltonian(n_qubits: int, num_terms: int = 3, seed = None) -> SparsePauliOp:\n",
    "    \"\"\"\n",
    "    Generates a random Hamiltonian for a given number of qubits using SparsePauliOp.\n",
    "    \n",
    "    Parameters:\n",
    "        n_qubits (int): Number of qubits.\n",
    "        num_terms (int): Number of random Pauli terms in the Hamiltonian.\n",
    "        seed (int, optional): Random seed for reproducibility.\n",
    "    \n",
    "    Returns:\n",
    "        SparsePauliOp: A random Hamiltonian represented as a sparse sum of Pauli operators.\n",
    "    \"\"\"\n",
    "    if seed is not None:\n",
    "        np.random.seed(seed)\n",
    "    \n",
    "    pauli_ops = ['X', 'Y', 'Z']\n",
    "    hamiltonian_terms = []\n",
    "    \n",
    "    for _ in range(num_terms):\n",
    "        # Generate a random Pauli string of length n_qubits\n",
    "        pauli_string = ''.join(np.random.choice(pauli_ops, size=n_qubits))\n",
    "        \n",
    "        # Assign a random coefficient between 0 and 1\n",
    "        coefficient = np.random.uniform(0, 1)\n",
    "        \n",
    "        hamiltonian_terms.append((pauli_string, np.round(coefficient, 1)))\n",
    "    \n",
    "    # Create a SparsePauliOp from the generated terms\n",
    "    return SparsePauliOp.from_list(hamiltonian_terms)\n",
    "\n",
    "def print_hamiltonian(hamiltonian: SparsePauliOp) -> None:\n",
    "    \"\"\"\n",
    "    Displays the LaTeX representation of a given Hamiltonian using IPython display.\n",
    "    \n",
    "    Parameters:\n",
    "        hamiltonian (SparsePauliOp): The Hamiltonian to be formatted in LaTeX.\n",
    "    \"\"\"\n",
    "    latex_str = r\"H = \"\n",
    "    terms = []\n",
    "    \n",
    "    for pauli, coeff in zip(hamiltonian.paulis, hamiltonian.coeffs):\n",
    "        pauli_str = pauli.to_label()\n",
    "        if coeff.real>0:\n",
    "            formatted_coeff = f\"+{coeff.real:.1f}\"  # Remove complex part if it's zero\n",
    "        else:\n",
    "            formatted_coeff = f\"{coeff.real:.1f}\"  # Remove complex part if it's zero\n",
    "        terms.append(f\"{formatted_coeff} \\\\cdot {pauli_str}\")\n",
    "    \n",
    "    latex_str += \" \".join(terms)\n",
    "    # latex_str = unicode_to_latex(latex_str)  # Encode properly for LaTeX\n",
    "    \n",
    "    # Use IPython display to render LaTeX properly\n",
    "    display(Math(latex_str))"
   ]
  },
  {
   "cell_type": "markdown",
   "id": "4008a50d",
   "metadata": {},
   "source": [
    "Above functions can be tested here by changing the variables `n_qubits`, `n_terms` and `seed`"
   ]
  },
  {
   "cell_type": "code",
   "execution_count": null,
   "id": "19152a06",
   "metadata": {},
   "outputs": [
    {
     "name": "stdout",
     "output_type": "stream",
     "text": [
      "Random Hamiltonian = SparsePauliOp(['YZY', 'XYX', 'XZX'],\n",
      "              coeffs=[0.1+0.j, 0.2+0.j, 0.9+0.j])\n"
     ]
    },
    {
     "data": {
      "text/latex": [
       "$\\displaystyle H = +0.1 \\cdot YZY +0.2 \\cdot XYX +0.9 \\cdot XZX$"
      ],
      "text/plain": [
       "<IPython.core.display.Math object>"
      ]
     },
     "metadata": {},
     "output_type": "display_data"
    }
   ],
   "source": [
    "# Example Usage\n",
    "n_qubits = 3\n",
    "n_terms = 3\n",
    "seed = 16     # With seed defined to some integer the random number generator always produces same distribution\n",
    "              # with seed = None each run produces new random distribution \n",
    "hamiltonian = random_hamiltonian(n_qubits, num_terms=n_terms, seed=seed)\n",
    "print('Random Hamiltonian =', hamiltonian)\n",
    "print_hamiltonian(hamiltonian)"
   ]
  },
  {
   "cell_type": "markdown",
   "id": "e776532a-6f49-414e-a43d-1b26fbe13d2c",
   "metadata": {},
   "source": [
    "#### Ansatz circuit\n",
    "\n",
    "In a VQE the ansatz circuit represents the quantum state $| \\psi(\\theta) \\rangle$ that approximates the ground state of the target Hamiltonian. It is consists of parameterized gates, $R_y(\\theta_i)$ in our case, and of entangling gates for which we use CNOT gates. For each parameterized gate the parameter $\\theta_i$ is iteratively optimized to minimize the expectation value of the Hamiltonian. Here we define a function that returns an ansatz circuit and its parameters for $N$ qubits and $L$ layers. Generally each layer improves the expressibility of the circuit whilst increasing the computational complexity."
   ]
  },
  {
   "cell_type": "code",
   "execution_count": 5,
   "id": "228e4622-c3d7-48a2-a913-ec7e22f24650",
   "metadata": {
    "tags": []
   },
   "outputs": [],
   "source": [
    "def ansatz_circ(n_qubits: int, layers: int) -> tuple[list[Parameter], QuantumCircuit]:\n",
    "    \"\"\"\n",
    "    Generates a parameterized ansatz circuit for the VQE.\n",
    "    \n",
    "    Args:\n",
    "        n_qubits (int): Number of qubits in the circuit.\n",
    "        layers (int): Number of layers of rotation and entanglement gates.\n",
    "    \n",
    "    Returns:\n",
    "        tuple[list[Parameter], QuantumCircuit]:\n",
    "            - A list of trainable parameters.\n",
    "            - The constructed ansatz quantum circuit.\n",
    "    \"\"\"\n",
    "    \n",
    "    # Initialize an empty quantum circuit with n_qubits\n",
    "    circ = QuantumCircuit(n_qubits)\n",
    "    params = []  # List to store the trainable parameters\n",
    "    \n",
    "    # Initial layer of single-qubit rotations (R_y gates) with unique parameters\n",
    "    for i in range(n_qubits):\n",
    "        angle = Parameter(f'θ_{i}0')\n",
    "        params.append(angle)\n",
    "        circ.ry(angle, i)  # Apply R_y rotation to each qubit\n",
    "    \n",
    "    # Layers of entanglement (CNOT gates) followed by R_y rotations\n",
    "    for l in range(layers):\n",
    "        \n",
    "        # Apply cyclic nearest-neighbor CNOT entanglement\n",
    "        for i in range(n_qubits):\n",
    "            circ.cx(i, np.mod(i+1, n_qubits))\n",
    "        \n",
    "        circ.barrier()\n",
    "        \n",
    "        #New round of R_y rotations with new trainable parameters\n",
    "        for i in range(n_qubits):\n",
    "            angle = Parameter(f'θ_{i}{l+1}')\n",
    "            params.append(angle)\n",
    "            circ.ry(angle, i)\n",
    "    \n",
    "    return params, circ"
   ]
  },
  {
   "cell_type": "code",
   "execution_count": 6,
   "id": "10f87041-5279-48aa-ad66-727c4f681b58",
   "metadata": {
    "tags": []
   },
   "outputs": [
    {
     "data": {
      "image/png": "[encoded data removed]",
      "text/plain": [
       "<Figure size 1207.22x284.278 with 1 Axes>"
      ]
     },
     "execution_count": 6,
     "metadata": {},
     "output_type": "execute_result"
    }
   ],
   "source": [
    "n_layers = 3\n",
    "params, circ = ansatz_circ(n_qubits, n_layers)\n",
    "n_params = len(params)\n",
    "circ.draw(output=\"mpl\", plot_barriers=False)"
   ]
  },
  {
   "cell_type": "markdown",
   "id": "9dc7b960-0b7c-46b1-8fe6-dcca0f690069",
   "metadata": {},
   "source": [
    "## Energy computation\n",
    "\n",
    "In a real VQE we would use a quantum computer to estimate the energy $E(\\theta) = \\langle \\psi(\\theta) | H | \\psi(\\theta) \\rangle$ with a finite number of shots. This would produce some amount of shot noise in the energy estimation. We try the noisy simulation later but first we simplify the problem by computing $E(\\theta)$ directly, thus removing any noise effects."
   ]
  },
  {
   "cell_type": "code",
   "execution_count": 7,
   "id": "d9686082-4c60-4880-b0ab-00f95d13dac2",
   "metadata": {
    "tags": []
   },
   "outputs": [],
   "source": [
    "def energy(param_values: list[float], params: list[Parameter], hamiltonian: SparsePauliOp) -> float:\n",
    "    \"\"\"\n",
    "    Computes the energy of a given Hamiltonian in the state produced by the circuit.\n",
    "    \n",
    "    Args:\n",
    "        param_values (list[float]): A list of parameter values for the circuit.\n",
    "        params (list[Parameter]): The list of parameterized circuit parameters.\n",
    "        hamiltonian (SparsePauliOp): The Hamiltonian whose expectation value is being computed.\n",
    "        circuit (QuantumCircuit): The ansatz circuit used to prepare the quantum state.\n",
    "    \n",
    "    Returns:\n",
    "        float: The computed energy expectation value for the given parameter values.\n",
    "    \"\"\" \n",
    "    # Bind parameter values to the circuit\n",
    "    binds = {p: v for p, v in zip(params, param_values)}\n",
    "    \n",
    "    # Generate the quantum state from the parameterized circuit\n",
    "    state = Statevector.from_instruction(circ.assign_parameters(binds))\n",
    "\n",
    "    # Compute the expectation value of the Hamiltonian in this state\n",
    "    E = state.expectation_value(hamiltonian).real\n",
    "    return E"
   ]
  },
  {
   "cell_type": "markdown",
   "id": "6356a9c8-1b65-46e1-a24a-25fba640cffd",
   "metadata": {},
   "source": [
    "Example usage: we generate a random distribution of $\\theta_i$ values and calculate the energy with them "
   ]
  },
  {
   "cell_type": "code",
   "execution_count": 8,
   "id": "97a3cf87-2f62-45e7-8bd1-020efa6bd6ad",
   "metadata": {
    "tags": []
   },
   "outputs": [
    {
     "name": "stdout",
     "output_type": "stream",
     "text": [
      "Energy for parameter values [5.3063817  4.30725952 1.07456516 3.73427913 3.54330641 4.56750599\n",
      " 2.21201992 4.46728877 2.27159099 0.55757707 1.93615188 4.44261542] is -0.3891336316977919\n"
     ]
    }
   ],
   "source": [
    "test_values = npr.uniform(0, 2*np.pi, len(params))\n",
    "print('Energy for parameter values', test_values, 'is', energy(param_values=test_values, params=params, hamiltonian=hamiltonian))"
   ]
  },
  {
   "cell_type": "markdown",
   "id": "36c92554-2dab-4cd7-9f81-52b253fb6650",
   "metadata": {
    "tags": []
   },
   "source": [
    "## Gradient calculation\n",
    "\n",
    "In order to use gradient-based optimization methods such as gradient descent, we need to be able to find gradients of $E(\\theta)$ w.r.t. the parameters $\\theta$. Since the parameterized rotation gates are sinusoidally dependent on $\\theta_i$ we can exploit parameter shift rule for the gradient calculation. Parameter shift rule states that\n",
    "$$\n",
    "\\nabla E(\\theta_i)= \\frac{1}{2} \\left( E(\\theta_i + \\frac{\\pi}{2}) - E(\\theta_i - \\frac{\\pi}{2}) \\right)\n",
    "$$. \n",
    "This is defined as a function below."
   ]
  },
  {
   "cell_type": "code",
   "execution_count": 9,
   "id": "d30d4bca-c2c6-4f0a-895c-093de6934c4a",
   "metadata": {
    "tags": []
   },
   "outputs": [],
   "source": [
    "def gradient(param_values: list[float], params: list[Parameter], hamiltonian: SparsePauliOp) -> list[float]:\n",
    "    '''\n",
    "    Computes the gradient of the energy with respect to the parameters using the finite difference method.\n",
    "    \n",
    "    Args:\n",
    "        param_values (list[float]): A list of parameter values for the circuit.\n",
    "    \n",
    "    Returns:\n",
    "        list[float]: returns the gradient computed throught parameter-shift rule\n",
    "    '''\n",
    "    \n",
    "    # Initialize gradient array with zeros\n",
    "    gradient = np.zeros_like(param_values)\n",
    "    \n",
    "    # Shift value for numerical differentiation\n",
    "    shift = np.pi / 2\n",
    "    \n",
    "    # Compute gradient using the parameter shift rule\n",
    "    for i in range(len(param_values)):\n",
    "        # Create shifted parameter arrays\n",
    "        shifted_up = np.copy(param_values)\n",
    "        shifted_down = np.copy(param_values)\n",
    "        \n",
    "        # Apply positive and negative shifts to the ith parameter\n",
    "        shifted_up[i] += shift\n",
    "        shifted_down[i] -= shift\n",
    "        \n",
    "        # Compute the finite difference approximation of the derivative\n",
    "        grad = 0.5 * (energy(shifted_up, params, hamiltonian) - energy(shifted_down, params, hamiltonian))\n",
    "        \n",
    "        # Store the gradient value\n",
    "        gradient[i] = grad\n",
    "    \n",
    "    return gradient"
   ]
  },
  {
   "cell_type": "markdown",
   "id": "eb4e4d12-7a3a-4332-9004-cab6e975c666",
   "metadata": {},
   "source": [
    "## Optimization\n",
    "\n",
    "We will use a simple gradient descent algorithm for optimization. That is, we update the parameters\n",
    "$$\n",
    "\\theta \\leftarrow \\theta - \\epsilon \\nabla E(\\theta)\n",
    "$$\n",
    "until the energy $E(\\theta)$ reaches a minimum."
   ]
  },
  {
   "cell_type": "code",
   "execution_count": 10,
   "id": "954ec5fc-76f4-4343-878f-0b25ffbf85bf",
   "metadata": {
    "tags": []
   },
   "outputs": [],
   "source": [
    "def gradient_descent(params: list[Parameter], hamiltonian: SparsePauliOp, steps=100, lr=0.1) -> tuple[list[float], float]:\n",
    "    x = npr.uniform(0, 2*np.pi, n_params)\n",
    "    energies = [energy(x, params, hamiltonian)]\n",
    "    for _ in range(steps):\n",
    "        x -= lr*gradient(x, params, hamiltonian)\n",
    "        energies.append(energy(x, params, hamiltonian))\n",
    "    return energies, x"
   ]
  },
  {
   "cell_type": "markdown",
   "id": "eec2c30b-9a7c-47f3-8d4f-add6a0e951d1",
   "metadata": {},
   "source": [
    "## Results\n",
    "\n",
    "The noisless optimization can be tested below. One can try to match the precise ground state energy by tweaking the number of ansatz layers (`n_layers`), number of steps (`steps`) and the learning (`lr`) rate. The gradient descent method may converge to local minima instead of the ground state for some random $H$, displaying the limitations of this method. "
   ]
  },
  {
   "cell_type": "code",
   "execution_count": 11,
   "id": "ba51b55d-07b1-4a64-bf6c-f9aca6a21fb8",
   "metadata": {
    "tags": []
   },
   "outputs": [
    {
     "data": {
      "text/latex": [
       "$\\displaystyle H = +0.1 \\cdot YZY +0.2 \\cdot XYX +0.9 \\cdot XZX$"
      ],
      "text/plain": [
       "<IPython.core.display.Math object>"
      ]
     },
     "metadata": {},
     "output_type": "display_data"
    },
    {
     "name": "stdout",
     "output_type": "stream",
     "text": [
      "For learning rate = 0.1, the optimization energy is -0.9819661870391765\n",
      "For learning rate = 0.5, the optimization energy is -0.9999822898225047\n",
      "For learning rate = 0.9, the optimization energy is -0.9998773167473961\n",
      "For learning rate = 1.3, the optimization energy is -0.6196138055791176\n",
      "For learning rate = 1.7, the optimization energy is -0.40111320354512536\n",
      "Precise ground state energy is -1.019803902718557\n"
     ]
    },
    {
     "data": {
      "image/png": "[encoded data removed]",
      "text/plain": [
       "<Figure size 640x480 with 1 Axes>"
      ]
     },
     "metadata": {},
     "output_type": "display_data"
    }
   ],
   "source": [
    "\n",
    "n_qubits = 3\n",
    "n_terms = 3\n",
    "seed = 16    \n",
    "\n",
    "H = random_hamiltonian(n_qubits, num_terms=n_terms, seed=seed)\n",
    "\n",
    "print_hamiltonian(H)\n",
    "\n",
    "n_layers = 2\n",
    "params, circ = ansatz_circ(n_qubits, n_layers)\n",
    "n_params = len(params)\n",
    "\n",
    "for lr in range(1, 20, 4):\n",
    "    lr /= 10\n",
    "    energies, final_values = gradient_descent(params=params, hamiltonian=H, steps=100, lr=lr)\n",
    "    print(f'For learning rate = {lr}, the optimization energy is', energies[-1])\n",
    "    plt.plot(energies, '.', label=f'lr={lr}')\n",
    "plt.xlabel('step')\n",
    "plt.ylabel('energy')\n",
    "plt.legend()\n",
    "plt.title('The effect of learning rate on the convergence (steps = 100)')\n",
    "\n",
    "eigenvalues, eigenvectors = linalg.eigh(H.to_matrix())\n",
    "print('Precise ground state energy is', eigenvalues[0])"
   ]
  },
  {
   "cell_type": "markdown",
   "id": "ed531a75-a903-4917-80bb-527e20f4055f",
   "metadata": {},
   "source": [
    "Below is defined functions that implement more realistic setup using noisy quantum simulator."
   ]
  },
  {
   "cell_type": "code",
   "execution_count": 12,
   "id": "717a0079",
   "metadata": {},
   "outputs": [],
   "source": [
    "\n",
    "def get_expectation(\n",
    "        param_values: list[float],\n",
    "        params: list[Parameter],\n",
    "        circuit: QuantumCircuit,\n",
    "        backend,\n",
    "        hamiltonian: SparsePauliOp,\n",
    "        shots: int = 500\n",
    "    ):\n",
    "    \"\"\"\n",
    "    Executes the circuit with given parameters and computes the expectation value.\n",
    "    \n",
    "    Args:\n",
    "        param_values (list): List of parameter values.\n",
    "        params (list): List of circuit parameters.\n",
    "        circuit (QuantumCircuit): Parameterized ansatz circuit.\n",
    "        backend (Backend): Noisy quantum backend simulator.\n",
    "        shots (int): Number of measurement shots.\n",
    "    \n",
    "    Returns:\n",
    "        float: Computed expectation value of the Hamiltonian.\n",
    "    \"\"\"\n",
    "    binds = {p: v for p, v in zip(params, param_values)}\n",
    "    bound_circuit = circuit.assign_parameters(binds)\n",
    "    bound_circuit.measure_all()\n",
    "    transpiled_circuit = transpile(bound_circuit, backend)\n",
    "    job = backend.run(transpiled_circuit, shots=shots)\n",
    "    counts = job.result().get_counts()\n",
    "    \n",
    "    expectation = 0\n",
    "    for pauli, coeff in zip(hamiltonian.paulis, hamiltonian.coeffs):\n",
    "        eigenvalues = np.array([(-1)**(sum(int(bit) for bit in key)) for key in counts.keys()])\n",
    "        probabilities = np.array([val / shots for val in counts.values()])\n",
    "        expectation += coeff * np.dot(eigenvalues, probabilities)\n",
    "\n",
    "    return expectation.real\n"
   ]
  },
  {
   "cell_type": "code",
   "execution_count": 13,
   "id": "f71fe452",
   "metadata": {},
   "outputs": [],
   "source": [
    "def vqe_optimization(params: list[Parameter], ansatz: QuantumCircuit, hamiltonian: SparsePauliOp, shots: int = 500):\n",
    "    \"\"\"Runs the full VQE optimization loop using a noisy simulator.\"\"\"\n",
    "    backend = Aer.get_backend('aer_simulator')\n",
    "    noise_model = NoiseModel()\n",
    "    noise_model.add_all_qubit_quantum_error(depolarizing_error(0.25, 1), [\"rx\", \"ry\", \"rz\"])\n",
    "    noise_model.add_all_qubit_quantum_error(depolarizing_error(0.5, 2), [\"cx\"])\n",
    "\n",
    "    initial_params = np.random.rand(len(params))\n",
    "    \n",
    "    def cost_function(param_values):\n",
    "        return get_expectation(param_values, params, ansatz, backend, hamiltonian, shots)\n",
    "    \n",
    "    result = minimize(cost_function, initial_params, method='COBYLA')\n",
    "    return result"
   ]
  },
  {
   "cell_type": "markdown",
   "id": "b84dc350",
   "metadata": {},
   "source": [
    "The below code demonstrates how the number of shots affects the accuracy of the VQE optimization. To speed up calculations we choose only a two qubit random Hamiltonian."
   ]
  },
  {
   "cell_type": "code",
   "execution_count": 19,
   "id": "f4bfce71",
   "metadata": {},
   "outputs": [
    {
     "data": {
      "text/latex": [
       "$\\displaystyle H = +0.9 \\cdot XY +0.3 \\cdot ZX$"
      ],
      "text/plain": [
       "<IPython.core.display.Math object>"
      ]
     },
     "metadata": {},
     "output_type": "display_data"
    },
    {
     "name": "stdout",
     "output_type": "stream",
     "text": [
      "For shots=25 attempt 0, noisy optimization energy is -1.1039999999999999\n",
      "For shots=25 attempt 1, noisy optimization energy is -1.008\n",
      "For shots=25 attempt 2, noisy optimization energy is -1.2\n",
      "For shots=25 attempt 3, noisy optimization energy is -1.2\n",
      "For shots=25 attempt 4, noisy optimization energy is -1.008\n",
      "For shots=25 attempt 5, noisy optimization energy is -1.1039999999999999\n",
      "For shots=25 attempt 6, noisy optimization energy is -1.2\n",
      "For shots=125 attempt 0, noisy optimization energy is -1.1808\n",
      "For shots=125 attempt 1, noisy optimization energy is -1.2\n",
      "For shots=125 attempt 2, noisy optimization energy is -1.0848\n",
      "For shots=125 attempt 3, noisy optimization energy is -1.1808\n",
      "For shots=125 attempt 4, noisy optimization energy is -1.2\n",
      "For shots=125 attempt 5, noisy optimization energy is -1.1423999999999999\n",
      "For shots=125 attempt 6, noisy optimization energy is -1.2\n",
      "For shots=225 attempt 0, noisy optimization energy is -1.2\n",
      "For shots=225 attempt 1, noisy optimization energy is -1.1786666666666665\n",
      "For shots=225 attempt 2, noisy optimization energy is -1.1466666666666665\n",
      "For shots=225 attempt 3, noisy optimization energy is -1.2\n",
      "For shots=225 attempt 4, noisy optimization energy is -1.2\n",
      "For shots=225 attempt 5, noisy optimization energy is -1.1573333333333333\n",
      "For shots=225 attempt 6, noisy optimization energy is -1.2\n",
      "Precise ground state energy is -1.1999999999999997\n"
     ]
    },
    {
     "data": {
      "text/plain": [
       "<matplotlib.legend.Legend at 0x259cdccb5d0>"
      ]
     },
     "execution_count": 19,
     "metadata": {},
     "output_type": "execute_result"
    },
    {
     "data": {
      "image/png": "[encoded data removed]",
      "text/plain": [
       "<Figure size 640x480 with 1 Axes>"
      ]
     },
     "metadata": {},
     "output_type": "display_data"
    }
   ],
   "source": [
    "n_qubits = 2\n",
    "n_terms = 2\n",
    "seed = 2     \n",
    "H = random_hamiltonian(n_qubits, num_terms=n_terms, seed=seed)\n",
    "\n",
    "print_hamiltonian(H)\n",
    "\n",
    "\n",
    "n_layers = 1\n",
    "params, circ = ansatz_circ(n_qubits, n_layers)\n",
    "result = vqe_optimization(params, circ, H)\n",
    "\n",
    "\n",
    "colors = ['b', 'r', 'g', 'orange', 'pink']\n",
    "i = 0\n",
    "results_for_shots = []\n",
    "for shots in range(25, 226, 100):\n",
    "    # legends.append(f\"shots={shots}\")\n",
    "    for attempt in range(7):\n",
    "        result = vqe_optimization(params, circ, H, shots)\n",
    "        results_for_shots.append(result.fun)\n",
    "        print(f\"For shots={shots} attempt {attempt}, noisy optimization energy is\", result.fun)\n",
    "        plt.plot(shots, result.fun, '.', color=colors[i])\n",
    "    plt.plot(shots, np.average(results_for_shots), 'x', color=colors[i])\n",
    "    results_for_shots = []\n",
    "    i+=1\n",
    "\n",
    "\n",
    "plt.xlabel('shots')\n",
    "plt.ylabel('energy')\n",
    "plt.title('The effect of shots to noisy VQE accuracy (x = the average)')\n",
    "\n",
    "\n",
    "eigenvalues, eigenvectors = linalg.eigh(H.to_matrix())\n",
    "print('Precise ground state energy is', eigenvalues[0])\n",
    "plt.plot(np.linspace(0, 225, 200), eigenvalues[0]*np.ones(200), label='ground state energy')\n",
    "plt.legend()"
   ]
  }
 ],
 "metadata": {
  "kernelspec": {
   "display_name": "Python 3",
   "language": "python",
   "name": "python3"
  },
  "language_info": {
   "codemirror_mode": {
    "name": "ipython",
    "version": 3
   },
   "file_extension": ".py",
   "mimetype": "text/x-python",
   "name": "python",
   "nbconvert_exporter": "python",
   "pygments_lexer": "ipython3",
   "version": "3.11.9"
  }
 },
 "nbformat": 4,
 "nbformat_minor": 5
}
